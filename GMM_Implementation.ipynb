{
  "nbformat": 4,
  "nbformat_minor": 0,
  "metadata": {
    "colab": {
      "name": "GMM_Implementation.ipynb",
      "provenance": [],
      "collapsed_sections": [],
      "toc_visible": true
    },
    "kernelspec": {
      "name": "python3",
      "display_name": "Python 3"
    }
  },
  "cells": [
    {
      "cell_type": "markdown",
      "metadata": {
        "id": "tFr3s1eh9_Mi"
      },
      "source": [
        "# Gaussian Mixture Models Implementation\n",
        "Oscar Contreras Carrasco\n",
        "\n",
        "Hi everyone! This is a full implementation of Gaussian Mixture Models in Python. I really hope you will find it useful to further understand how the algorithm works.\n",
        "\n",
        "Let's first import the libraries we are going to be using throughout the exercise:"
      ]
    },
    {
      "cell_type": "code",
      "metadata": {
        "id": "irGOL_Dcw8ja"
      },
      "source": [
        "import imageio\n",
        "import matplotlib.animation as ani\n",
        "import matplotlib.cm as cmx\n",
        "import matplotlib.colors as colors\n",
        "import matplotlib.pyplot as plt\n",
        "import numpy as np\n",
        "\n",
        "from matplotlib.patches import Ellipse\n",
        "from PIL import Image\n",
        "from sklearn import datasets\n",
        "from sklearn.cluster import KMeans"
      ],
      "execution_count": 1,
      "outputs": []
    },
    {
      "cell_type": "markdown",
      "metadata": {
        "id": "hN_TKq1kVRJT"
      },
      "source": [
        "For the purposes of this exercise, we will be using the Iris dataset, which is probably already familiar to you. We can easily obtain it by using the __load_iris__ function provided by sklearn:"
      ]
    },
    {
      "cell_type": "code",
      "metadata": {
        "id": "mcCzJFnT_fRQ",
        "colab": {
          "base_uri": "https://localhost:8080/"
        },
        "outputId": "e5f16b51-fe78-4dda-aa0d-eab5b80716c9"
      },
      "source": [
        "iris = datasets.load_iris()\n",
        "X = iris.data\n",
        "X[:20]"
      ],
      "execution_count": 2,
      "outputs": [
        {
          "output_type": "execute_result",
          "data": {
            "text/plain": [
              "array([[5.1, 3.5, 1.4, 0.2],\n",
              "       [4.9, 3. , 1.4, 0.2],\n",
              "       [4.7, 3.2, 1.3, 0.2],\n",
              "       [4.6, 3.1, 1.5, 0.2],\n",
              "       [5. , 3.6, 1.4, 0.2],\n",
              "       [5.4, 3.9, 1.7, 0.4],\n",
              "       [4.6, 3.4, 1.4, 0.3],\n",
              "       [5. , 3.4, 1.5, 0.2],\n",
              "       [4.4, 2.9, 1.4, 0.2],\n",
              "       [4.9, 3.1, 1.5, 0.1],\n",
              "       [5.4, 3.7, 1.5, 0.2],\n",
              "       [4.8, 3.4, 1.6, 0.2],\n",
              "       [4.8, 3. , 1.4, 0.1],\n",
              "       [4.3, 3. , 1.1, 0.1],\n",
              "       [5.8, 4. , 1.2, 0.2],\n",
              "       [5.7, 4.4, 1.5, 0.4],\n",
              "       [5.4, 3.9, 1.3, 0.4],\n",
              "       [5.1, 3.5, 1.4, 0.3],\n",
              "       [5.7, 3.8, 1.7, 0.3],\n",
              "       [5.1, 3.8, 1.5, 0.3]])"
            ]
          },
          "metadata": {
            "tags": []
          },
          "execution_count": 2
        }
      ]
    },
    {
      "cell_type": "markdown",
      "metadata": {
        "id": "Vgz6E8z9VaVJ"
      },
      "source": [
        "Let us now implement the Gaussian density function. Ahem... I know you can use numpy functions for that, but I believe it is actually interesting to see how things work internally. Our aim is to create a function that implements this:\n",
        "\n",
        "\\begin{equation}\n",
        "\\large\n",
        "p(\\mathbf x | \\mathbf\\mu, \\mathbf\\Sigma) = \\frac 1 {({2\\pi})^{n/2}|\\Sigma|^{1/2}}\\exp\\left(-\\frac 1 2 (\\mathbf x -\\mathbf\\mu)^T\\mathbf\\Sigma^{-1}(\\mathbf x -\\mathbf\\mu)\\right)\n",
        "\\end{equation}\n"
      ]
    },
    {
      "cell_type": "code",
      "metadata": {
        "id": "Wk9WlrFVHtcN"
      },
      "source": [
        "def gaussian(X, mu, cov):\n",
        "    n = X.shape[1]\n",
        "    diff = (X - mu).T\n",
        "    return np.diagonal(1 / ((2 * np.pi) ** (n / 2) * np.linalg.det(cov) ** 0.5) * np.exp(-0.5 * np.dot(np.dot(diff.T, np.linalg.inv(cov)), diff))).reshape(-1, 1)"
      ],
      "execution_count": 3,
      "outputs": []
    },
    {
      "cell_type": "markdown",
      "metadata": {
        "id": "OiJ_cem5W_Cp"
      },
      "source": [
        "You can try this function by using the code in next cell. You should obtain something like:\n",
        "\n",
        "array([[0.00159853],\n",
        "       [0.00481869],\n",
        "       [0.00276259],\n",
        "       [0.0014309 ],\n",
        "       [0.00143998]])"
      ]
    },
    {
      "cell_type": "code",
      "metadata": {
        "id": "7PHi0Tu4xQAS",
        "colab": {
          "base_uri": "https://localhost:8080/"
        },
        "outputId": "845e0da6-eb66-408d-c37b-1a86e58661f8"
      },
      "source": [
        "x0 = np.array([[0.05, 1.413, 0.212], [0.85, -0.3, 1.11], [11.1, 0.4, 1.5], [0.27, 0.12, 1.44], [88, 12.33, 1.44]])\n",
        "mu = np.mean(x0, axis=0)\n",
        "cov = np.dot((x0 - mu).T, x0 - mu) / (x0.shape[0] - 1)\n",
        "\n",
        "y = gaussian(x0, mu=mu, cov=cov)\n",
        "y"
      ],
      "execution_count": 4,
      "outputs": [
        {
          "output_type": "execute_result",
          "data": {
            "text/plain": [
              "array([[0.00159853],\n",
              "       [0.00481869],\n",
              "       [0.00276259],\n",
              "       [0.0014309 ],\n",
              "       [0.00143998]])"
            ]
          },
          "metadata": {
            "tags": []
          },
          "execution_count": 4
        }
      ]
    },
    {
      "cell_type": "markdown",
      "metadata": {
        "id": "NsxI7u2NXpWY"
      },
      "source": [
        "__Step 1__\n",
        "\n",
        "This is the initialization step of the GMM. At this point, we must initialise our parameters $\\pi_k$, $\\mu_k$, and $\\Sigma_k$. In this case, we are going to use the results of KMeans as an initial value for $\\mu_k$, set $\\pi_k$ to one over the number of clusters and $\\Sigma_k$ to the identity matrix. We could also use random numbers for everything, but using a sensible initialisation procedure will help the algorithm achieve better results."
      ]
    },
    {
      "cell_type": "code",
      "metadata": {
        "id": "XEZjEtUqRfgG"
      },
      "source": [
        "def initialize_clusters(X, n_clusters):\n",
        "    clusters = []\n",
        "    idx = np.arange(X.shape[0])\n",
        "    \n",
        "    # We use the KMeans centroids to initialise the GMM\n",
        "    \n",
        "    kmeans = KMeans(n_clusters).fit(X)\n",
        "    mu_k = kmeans.cluster_centers_\n",
        "    \n",
        "    for i in range(n_clusters):\n",
        "        clusters.append({\n",
        "            'pi_k': 1.0 / n_clusters,\n",
        "            'mu_k': mu_k[i],\n",
        "            'cov_k': np.identity(X.shape[1], dtype=np.float64)\n",
        "        })\n",
        "        \n",
        "    return clusters"
      ],
      "execution_count": 5,
      "outputs": []
    },
    {
      "cell_type": "markdown",
      "metadata": {
        "id": "b4HIKt0OYCex"
      },
      "source": [
        "**Step 2 (Expectation step)**\n",
        "\n",
        "We should now calculate $\\gamma(z_{nk})$. We can achieve this by means of the following expression:\n",
        "\n",
        "\\begin{equation}\n",
        "\\large\n",
        "\\gamma{(z_{nk})}=\\frac {\\pi_k\\mathcal N(\\mathbf x_n| \\mathbf\\mu_k, \\mathbf\\Sigma_k)}{\\sum_{j=1}^K\\pi_j\\mathcal N(\\mathbf x_n| \\mathbf\\mu_j, \\mathbf\\Sigma_j)}\n",
        "\\end{equation}\n",
        "\n",
        "For convenience, we just calculate the denominator as a sum over all terms in the numerator, and then assign it to a variable named __totals__"
      ]
    },
    {
      "cell_type": "code",
      "metadata": {
        "id": "78Xqp2nSGugd"
      },
      "source": [
        "def expectation_step(X, clusters):\n",
        "    totals = np.zeros((X.shape[0], 1), dtype=np.float64)\n",
        "    \n",
        "    for cluster in clusters:\n",
        "        pi_k = cluster['pi_k']\n",
        "        mu_k = cluster['mu_k']\n",
        "        cov_k = cluster['cov_k']\n",
        "        \n",
        "        gamma_nk = (pi_k * gaussian(X, mu_k, cov_k)).astype(np.float64)\n",
        "        \n",
        "        for i in range(X.shape[0]):\n",
        "            totals[i] += gamma_nk[i]\n",
        "        \n",
        "        cluster['gamma_nk'] = gamma_nk\n",
        "        cluster['totals'] = totals\n",
        "        \n",
        "    \n",
        "    for cluster in clusters:\n",
        "        cluster['gamma_nk'] /= cluster['totals']"
      ],
      "execution_count": 6,
      "outputs": []
    },
    {
      "cell_type": "markdown",
      "metadata": {
        "id": "_VHT5Ph1ZAFu"
      },
      "source": [
        "**Step 3 (Maximization step):**\n",
        "\n",
        "Let us now implement the maximization step. Since $\\gamma(z_{nk})$ is common to the expressions for $\\pi_k$, $\\mu_k$ and $\\Sigma_k$, we can simply define:\n",
        "\n",
        "\\begin{equation}\n",
        "\\large\n",
        "N_k=\\sum_{n=1}^N\\gamma({z_{nk}})\n",
        "\\end{equation}\n",
        "\n",
        "And then we can calculate the revised parameters by using:\n",
        "\n",
        "\\begin{equation}\n",
        "\\large\n",
        "\\pi_k^*=\\frac {N_k} N\n",
        "\\end{equation}\n",
        "\n",
        "\n",
        "\\begin{equation}\n",
        "\\large\n",
        "\\mu_k^*=\\frac 1 {N_k} \\sum_{n=1}^N\\gamma({z_{nk}})\\mathbf x_n\n",
        "\\end{equation}\n",
        "\n",
        "\n",
        "\\begin{equation}\n",
        "\\large\n",
        "\\Sigma_k^*=\\frac 1 {N_k} \\sum_{n=1}^N\\gamma({z_{nk}})(\\mathbf x_n-\\mathbf\\mu_k)(\\mathbf x_n-\\mathbf\\mu_k)^T\n",
        "\\end{equation}\n",
        "\n",
        "Note: To calculate the covariance, we define an auxiliary variable __diff__ that contains $(x_n-\\mu_k)^T$."
      ]
    },
    {
      "cell_type": "code",
      "metadata": {
        "id": "7Z7K5jrEJHHu"
      },
      "source": [
        "def maximization_step(X, clusters):\n",
        "    N = float(X.shape[0])\n",
        "  \n",
        "    for cluster in clusters:\n",
        "        gamma_nk = cluster['gamma_nk']\n",
        "        cov_k = np.zeros((X.shape[1], X.shape[1]))\n",
        "        \n",
        "        N_k = np.sum(gamma_nk, axis=0)\n",
        "        \n",
        "        pi_k = N_k / N\n",
        "        mu_k = np.sum(gamma_nk * X, axis=0) / N_k\n",
        "        \n",
        "        for j in range(X.shape[0]):\n",
        "            diff = (X[j] - mu_k).reshape(-1, 1)\n",
        "            cov_k += gamma_nk[j] * np.dot(diff, diff.T)\n",
        "            \n",
        "        cov_k /= N_k\n",
        "        \n",
        "        cluster['pi_k'] = pi_k\n",
        "        cluster['mu_k'] = mu_k\n",
        "        cluster['cov_k'] = cov_k"
      ],
      "execution_count": 7,
      "outputs": []
    },
    {
      "cell_type": "markdown",
      "metadata": {
        "id": "Qzbylmjoa_61"
      },
      "source": [
        "Let us now determine the log-likelihood of the model. It is given by:\n",
        "\n",
        "\\begin{equation}\n",
        "\\large\n",
        "\\ln p(\\mathbf X)=\\sum_{n=1}^N\\ln\\sum_{k=1}^K\\pi_k\\mathcal N(\\mathbf x_n|\\mu_k,\\Sigma_k)\n",
        "\\end{equation}\n",
        "\n",
        "However, the second summation has already been calculated in the __expectation_step__ function and is available in the __totals__ variable. So we just make use of it."
      ]
    },
    {
      "cell_type": "code",
      "metadata": {
        "id": "vzVrZY6PTMR8"
      },
      "source": [
        "def get_likelihood(X, clusters):\n",
        "    sample_likelihoods = np.log(np.array([cluster['totals'] for cluster in clusters]))\n",
        "    return np.sum(sample_likelihoods), sample_likelihoods"
      ],
      "execution_count": 8,
      "outputs": []
    },
    {
      "cell_type": "markdown",
      "metadata": {
        "id": "oGSkyh33bNu8"
      },
      "source": [
        "Finally, let's put everything together! First, we are going to initialise the parameters by using the __initialise_clusters__ function, and then perform several expectation-maximization steps. In this case, we set the number of iterations of the training procedure to a fixed __n_epochs__ number. I have done this on purpose to generate graphs of the log-likelihood later."
      ]
    },
    {
      "cell_type": "code",
      "metadata": {
        "id": "9qWFzpI3Uq-9"
      },
      "source": [
        "def train_gmm(X, n_clusters, n_epochs):\n",
        "    clusters = initialize_clusters(X, n_clusters)\n",
        "    likelihoods = np.zeros((n_epochs, ))\n",
        "    scores = np.zeros((X.shape[0], n_clusters))\n",
        "    history = []\n",
        "\n",
        "    for i in range(n_epochs):\n",
        "        clusters_snapshot = []\n",
        "        \n",
        "        # This is just for our later use in the graphs\n",
        "        for cluster in clusters:\n",
        "            clusters_snapshot.append({\n",
        "                'mu_k': cluster['mu_k'].copy(),\n",
        "                'cov_k': cluster['cov_k'].copy()\n",
        "            })\n",
        "            \n",
        "        history.append(clusters_snapshot)\n",
        "      \n",
        "        expectation_step(X, clusters)\n",
        "        maximization_step(X, clusters)\n",
        "\n",
        "        likelihood, sample_likelihoods = get_likelihood(X, clusters)\n",
        "        likelihoods[i] = likelihood\n",
        "\n",
        "        print('Epoch: ', i + 1, 'Likelihood: ', likelihood)\n",
        "        \n",
        "    for i, cluster in enumerate(clusters):\n",
        "        scores[:, i] = np.log(cluster['gamma_nk']).reshape(-1)\n",
        "        \n",
        "    return clusters, likelihoods, scores, sample_likelihoods, history"
      ],
      "execution_count": 9,
      "outputs": []
    },
    {
      "cell_type": "markdown",
      "metadata": {
        "id": "QqhgdUKrbUrf"
      },
      "source": [
        "Let's train our model!"
      ]
    },
    {
      "cell_type": "code",
      "metadata": {
        "id": "5h10mICZGwrh",
        "colab": {
          "base_uri": "https://localhost:8080/"
        },
        "outputId": "6959cbf9-b41c-4de1-c6a2-a756c47b408a"
      },
      "source": [
        "n_clusters = 3\n",
        "n_epochs = 50\n",
        "\n",
        "clusters, likelihoods, scores, sample_likelihoods, history = train_gmm(X, n_clusters, n_epochs)"
      ],
      "execution_count": 10,
      "outputs": [
        {
          "output_type": "stream",
          "text": [
            "Epoch:  1 Likelihood:  -2183.364297367163\n",
            "Epoch:  2 Likelihood:  -687.9930619889926\n",
            "Epoch:  3 Likelihood:  -599.244386338913\n",
            "Epoch:  4 Likelihood:  -587.2166556096777\n",
            "Epoch:  5 Likelihood:  -577.1883030702887\n",
            "Epoch:  6 Likelihood:  -569.9844076794175\n",
            "Epoch:  7 Likelihood:  -565.1009094779274\n",
            "Epoch:  8 Likelihood:  -561.3665532118042\n",
            "Epoch:  9 Likelihood:  -557.9066482188395\n",
            "Epoch:  10 Likelihood:  -554.708222566411\n",
            "Epoch:  11 Likelihood:  -551.8847892480705\n",
            "Epoch:  12 Likelihood:  -549.3689988283985\n",
            "Epoch:  13 Likelihood:  -547.2652544807574\n",
            "Epoch:  14 Likelihood:  -545.5594286930434\n",
            "Epoch:  15 Likelihood:  -543.8235990782626\n",
            "Epoch:  16 Likelihood:  -542.0117820714645\n",
            "Epoch:  17 Likelihood:  -541.0209637151715\n",
            "Epoch:  18 Likelihood:  -540.6999702580206\n",
            "Epoch:  19 Likelihood:  -540.6012362811376\n",
            "Epoch:  20 Likelihood:  -540.5705173574369\n",
            "Epoch:  21 Likelihood:  -540.560887786417\n",
            "Epoch:  22 Likelihood:  -540.5578476006326\n",
            "Epoch:  23 Likelihood:  -540.5568826889847\n",
            "Epoch:  24 Likelihood:  -540.5565754301388\n",
            "Epoch:  25 Likelihood:  -540.5564774043805\n",
            "Epoch:  26 Likelihood:  -540.5564460982699\n",
            "Epoch:  27 Likelihood:  -540.5564360944483\n",
            "Epoch:  28 Likelihood:  -540.5564328967425\n",
            "Epoch:  29 Likelihood:  -540.5564318744262\n",
            "Epoch:  30 Likelihood:  -540.5564315475572\n",
            "Epoch:  31 Likelihood:  -540.5564314430405\n",
            "Epoch:  32 Likelihood:  -540.5564314096205\n",
            "Epoch:  33 Likelihood:  -540.5564313989337\n",
            "Epoch:  34 Likelihood:  -540.5564313955167\n",
            "Epoch:  35 Likelihood:  -540.556431394424\n",
            "Epoch:  36 Likelihood:  -540.5564313940744\n",
            "Epoch:  37 Likelihood:  -540.556431393963\n",
            "Epoch:  38 Likelihood:  -540.5564313939271\n",
            "Epoch:  39 Likelihood:  -540.5564313939155\n",
            "Epoch:  40 Likelihood:  -540.5564313939121\n",
            "Epoch:  41 Likelihood:  -540.5564313939108\n",
            "Epoch:  42 Likelihood:  -540.5564313939104\n",
            "Epoch:  43 Likelihood:  -540.5564313939105\n",
            "Epoch:  44 Likelihood:  -540.5564313939103\n",
            "Epoch:  45 Likelihood:  -540.5564313939103\n",
            "Epoch:  46 Likelihood:  -540.5564313939103\n",
            "Epoch:  47 Likelihood:  -540.5564313939104\n",
            "Epoch:  48 Likelihood:  -540.5564313939103\n",
            "Epoch:  49 Likelihood:  -540.5564313939101\n",
            "Epoch:  50 Likelihood:  -540.5564313939103\n"
          ],
          "name": "stdout"
        }
      ]
    },
    {
      "cell_type": "markdown",
      "metadata": {
        "id": "Ho3efim_bYxk"
      },
      "source": [
        "It is always a good idea to see how the log-likelihood is making progress. So let's create a graph reflecting that value"
      ]
    },
    {
      "cell_type": "code",
      "metadata": {
        "id": "YV_9LG2WLGeZ",
        "colab": {
          "base_uri": "https://localhost:8080/",
          "height": 607
        },
        "outputId": "21b947de-479c-47b6-f7be-86e23119fce9"
      },
      "source": [
        "plt.figure(figsize=(10, 10))\n",
        "plt.title('Log-Likelihood')\n",
        "plt.plot(np.arange(1, n_epochs + 1), likelihoods)\n",
        "plt.show()"
      ],
      "execution_count": 11,
      "outputs": [
        {
          "output_type": "display_data",
          "data": {
            "image/png": "[encoded data removed]",
            "text/plain": [
              "<Figure size 720x720 with 1 Axes>"
            ]
          },
          "metadata": {
            "tags": [],
            "needs_background": "light"
          }
        }
      ]
    },
    {
      "cell_type": "markdown",
      "metadata": {
        "id": "V1RMlu7ybb6r"
      },
      "source": [
        "Let us now create a graph to visualise our clusters as well as the parameters for the Gaussian mixture. Essentially, what we do here is to create ellipses of different scales in order to map to the coordinates of each Gaussian."
      ]
    },
    {
      "cell_type": "code",
      "metadata": {
        "id": "eR5RLqt9HEzp",
        "colab": {
          "base_uri": "https://localhost:8080/",
          "height": 592
        },
        "outputId": "f674eaba-d3ee-4727-a7b0-ffba71a78a16"
      },
      "source": [
        "def create_cluster_animation(X, history, scores):\n",
        "    fig, ax = plt.subplots(1, 1, figsize=(10, 10))\n",
        "    colorset = ['blue', 'red', 'black']\n",
        "    images = []\n",
        "    \n",
        "    for j, clusters in enumerate(history):\n",
        "      \n",
        "        idx = 0\n",
        "      \n",
        "        if j % 3 != 0:\n",
        "            continue\n",
        "        \n",
        "        plt.cla()\n",
        "        \n",
        "        for cluster in clusters:\n",
        "            mu = cluster['mu_k']\n",
        "            cov = cluster['cov_k']\n",
        "\n",
        "            eigenvalues, eigenvectors = np.linalg.eigh(cov)\n",
        "            order = eigenvalues.argsort()[::-1]\n",
        "            eigenvalues, eigenvectors = eigenvalues[order], eigenvectors[:, order]\n",
        "            vx, vy = eigenvectors[:,0][0], eigenvectors[:,0][1]\n",
        "            theta = np.arctan2(vy, vx)\n",
        "\n",
        "            color = colors.to_rgba(colorset[idx])\n",
        "\n",
        "            for cov_factor in range(1, 4):\n",
        "                ell = Ellipse(xy=mu, width=np.sqrt(eigenvalues[0]) * cov_factor * 2, height=np.sqrt(eigenvalues[1]) * cov_factor * 2, angle=np.degrees(theta), linewidth=2)\n",
        "                ell.set_facecolor((color[0], color[1], color[2], 1.0 / (cov_factor * 4.5)))\n",
        "                ax.add_artist(ell)\n",
        "\n",
        "            ax.scatter(cluster['mu_k'][0], cluster['mu_k'][1], c=colorset[idx], s=1000, marker='+')\n",
        "            idx += 1\n",
        "\n",
        "        for i in range(X.shape[0]):\n",
        "            ax.scatter(X[i, 0], X[i, 1], c=colorset[np.argmax(scores[i])], marker='o')\n",
        "        \n",
        "        fig.canvas.draw()\n",
        "        \n",
        "        image = np.frombuffer(fig.canvas.tostring_rgb(), dtype='uint8')\n",
        "        image = image.reshape(fig.canvas.get_width_height()[::-1] + (3,))\n",
        "\n",
        "        images.append(image)\n",
        "    \n",
        "    kwargs_write = {'fps':1.0, 'quantizer':'nq'}\n",
        "    imageio.mimsave('./gmm.gif', images, fps=1)\n",
        "    plt.show(Image.open('gmm.gif').convert('RGB'))\n",
        "    \n",
        "    \n",
        "create_cluster_animation(X, history, scores)"
      ],
      "execution_count": 12,
      "outputs": [
        {
          "output_type": "display_data",
          "data": {
            "image/png": "[encoded data removed]",
            "text/plain": [
              "<Figure size 720x720 with 1 Axes>"
            ]
          },
          "metadata": {
            "tags": [],
            "needs_background": "light"
          }
        }
      ]
    },
    {
      "cell_type": "markdown",
      "metadata": {
        "id": "7YlS_QKKbvmJ"
      },
      "source": [
        "By the way, you can also watch an animation of how the cluster estimations improve. You can just open the __gmm.gif__ file generated. Let's now test if our calculations are correct. In this case, we are using sklearn's GMM implementation to check for the parameters and probabilities."
      ]
    },
    {
      "cell_type": "code",
      "metadata": {
        "id": "W5TLvNKQ8LX6",
        "colab": {
          "base_uri": "https://localhost:8080/"
        },
        "outputId": "f59ab4bb-8e1d-4484-abcf-0d4cdd14b8f0"
      },
      "source": [
        "from sklearn.mixture import GaussianMixture\n",
        "\n",
        "gmm = GaussianMixture(n_components=n_clusters, max_iter=50).fit(X)\n",
        "gmm_scores = gmm.score_samples(X)\n",
        "\n",
        "print('Means by sklearn:\\n', gmm.means_)\n",
        "print('Means by our implementation:\\n', np.array([cluster['mu_k'].tolist() for cluster in clusters]))\n",
        "print('Scores by sklearn:\\n', gmm_scores[0:20])\n",
        "print('Scores by our implementation:\\n', sample_likelihoods.reshape(-1)[0:20])"
      ],
      "execution_count": 13,
      "outputs": [
        {
          "output_type": "stream",
          "text": [
            "Means by sklearn:\n",
            " [[6.54632887 2.94943079 5.4834877  1.98716063]\n",
            " [5.006      3.428      1.462      0.246     ]\n",
            " [5.91697517 2.77803998 4.20523542 1.29841561]]\n",
            "Means by our implementation:\n",
            " [[5.91496959 2.77784365 4.20155323 1.29696685]\n",
            " [5.006      3.428      1.462      0.246     ]\n",
            " [6.54454865 2.94866115 5.47955343 1.98460495]]\n",
            "Scores by sklearn:\n",
            " [ 1.57050082  0.73787138  1.14436656  0.92913238  1.411028   -0.09451903\n",
            "  0.05266884  1.62442195  0.27082378  0.16706624  0.83489877  0.77168582\n",
            "  0.29597841 -1.79224582 -3.41557928 -2.10529279 -1.12995447  1.47503579\n",
            " -0.84612536  0.97699215]\n",
            "Scores by our implementation:\n",
            " [ 1.57057947  0.73793642  1.14444614  0.92920539  1.41110417 -0.09448868\n",
            "  0.05268031  1.62449505  0.27090462  0.16702226  0.83494742  0.77171947\n",
            "  0.29597776 -1.79222469 -3.41562626 -2.1052825  -1.1300608   1.47509939\n",
            " -0.84608424  0.9770596 ]\n"
          ],
          "name": "stdout"
        }
      ]
    }
  ]
}